{
 "cells": [
  {
   "cell_type": "markdown",
   "id": "78b03f90",
   "metadata": {},
   "source": [
    "# A Empresa Cardio Catch Diseases ( CCD )"
   ]
  },
  {
   "cell_type": "markdown",
   "id": "aa92b4a6",
   "metadata": {},
   "source": [
    "### Informações da base de dados"
   ]
  },
  {
   "cell_type": "markdown",
   "id": "738b9ad6",
   "metadata": {},
   "source": [
    "- Age: Idade em dias\n",
    "- Height: Altura em centímetros\n",
    "- Weight: Peso em quilogramas\n",
    "- Gender: Gênero (1 - mulheres, 2 - homens)\n",
    "- ap_hi: Pressão arterial sistólica (é aquela que marca a contração do músculo cardíaco, quando ele bombeia sangue para o corpo) \n",
    "         Normal: <130, Normal alta: 130-139, Hipertensão de grau 1: 140-159, Hipertensão de grau 2: ≥160\n",
    "\n",
    "- ap_lo: Pressão arterial diastólica (é a do momento de repouso, em que os vasos permanecem abertos para o sangue passar)\n",
    "         Normal: <85, Normal alta: 85-89, Hipertensão de grau 1: 90-99, Hipertensão de grau 2: ≥100\n",
    "\n",
    "- Cholesterol: Colesterol (1 - normal, 2 - acima do normal, 3 - bem acima do normal)\n",
    "- gluc: Glicose (1 - normal, 2 - acima do normal, 3 - bem acima do normal)\n",
    "- smoke: Fumante (0 - não, 1 - sim)\n",
    "- alco: Ingestão de álcool (0 - não, 1 - sim)\n",
    "- active: Atividade física (0 - não, 1 - sim)\n",
    "- cardio: Presença ou ausência de doença cardiovascular (0 - não, 1 - sim)"
   ]
  },
  {
   "cell_type": "markdown",
   "id": "3852bdc0",
   "metadata": {},
   "source": [
    "## - Objetivo: criar uma ferramenta que aumente a precisão do diagnóstico e que essa precisão seja estável para todos os diagnósticos."
   ]
  },
  {
   "cell_type": "code",
   "execution_count": 1,
   "id": "1b86bcaf",
   "metadata": {},
   "outputs": [],
   "source": [
    "import warnings\n",
    "warnings.filterwarnings('ignore')"
   ]
  },
  {
   "cell_type": "code",
   "execution_count": 2,
   "id": "3a83ec59",
   "metadata": {},
   "outputs": [],
   "source": [
    "import pandas as pd\n",
    "import numpy as np\n",
    "import seaborn as sns\n",
    "import matplotlib.pyplot as plt\n",
    "from scipy.stats import chi2_contingency, randint\n",
    "from sklearn.model_selection import RandomizedSearchCV\n",
    "from sklearn.model_selection import KFold, cross_val_score\n",
    "from sklearn.ensemble import RandomForestClassifier, ExtraTreesClassifier"
   ]
  },
  {
   "cell_type": "code",
   "execution_count": 3,
   "id": "9c23621f",
   "metadata": {},
   "outputs": [],
   "source": [
    "sns.set_style('darkgrid')"
   ]
  },
  {
   "cell_type": "code",
   "execution_count": 4,
   "id": "3654f3b4",
   "metadata": {},
   "outputs": [],
   "source": [
    "dados = pd.read_csv(\"cardio_train.csv\", sep = \";\")"
   ]
  },
  {
   "cell_type": "code",
   "execution_count": 5,
   "id": "5af64d8a",
   "metadata": {},
   "outputs": [
    {
     "data": {
      "text/html": [
       "<div>\n",
       "<style scoped>\n",
       "    .dataframe tbody tr th:only-of-type {\n",
       "        vertical-align: middle;\n",
       "    }\n",
       "\n",
       "    .dataframe tbody tr th {\n",
       "        vertical-align: top;\n",
       "    }\n",
       "\n",
       "    .dataframe thead th {\n",
       "        text-align: right;\n",
       "    }\n",
       "</style>\n",
       "<table border=\"1\" class=\"dataframe\">\n",
       "  <thead>\n",
       "    <tr style=\"text-align: right;\">\n",
       "      <th></th>\n",
       "      <th>id</th>\n",
       "      <th>age</th>\n",
       "      <th>gender</th>\n",
       "      <th>height</th>\n",
       "      <th>weight</th>\n",
       "      <th>ap_hi</th>\n",
       "      <th>ap_lo</th>\n",
       "      <th>cholesterol</th>\n",
       "      <th>gluc</th>\n",
       "      <th>smoke</th>\n",
       "      <th>alco</th>\n",
       "      <th>active</th>\n",
       "      <th>cardio</th>\n",
       "    </tr>\n",
       "  </thead>\n",
       "  <tbody>\n",
       "    <tr>\n",
       "      <th>0</th>\n",
       "      <td>0</td>\n",
       "      <td>18393</td>\n",
       "      <td>2</td>\n",
       "      <td>168</td>\n",
       "      <td>62.0</td>\n",
       "      <td>110</td>\n",
       "      <td>80</td>\n",
       "      <td>1</td>\n",
       "      <td>1</td>\n",
       "      <td>0</td>\n",
       "      <td>0</td>\n",
       "      <td>1</td>\n",
       "      <td>0</td>\n",
       "    </tr>\n",
       "    <tr>\n",
       "      <th>1</th>\n",
       "      <td>1</td>\n",
       "      <td>20228</td>\n",
       "      <td>1</td>\n",
       "      <td>156</td>\n",
       "      <td>85.0</td>\n",
       "      <td>140</td>\n",
       "      <td>90</td>\n",
       "      <td>3</td>\n",
       "      <td>1</td>\n",
       "      <td>0</td>\n",
       "      <td>0</td>\n",
       "      <td>1</td>\n",
       "      <td>1</td>\n",
       "    </tr>\n",
       "    <tr>\n",
       "      <th>2</th>\n",
       "      <td>2</td>\n",
       "      <td>18857</td>\n",
       "      <td>1</td>\n",
       "      <td>165</td>\n",
       "      <td>64.0</td>\n",
       "      <td>130</td>\n",
       "      <td>70</td>\n",
       "      <td>3</td>\n",
       "      <td>1</td>\n",
       "      <td>0</td>\n",
       "      <td>0</td>\n",
       "      <td>0</td>\n",
       "      <td>1</td>\n",
       "    </tr>\n",
       "    <tr>\n",
       "      <th>3</th>\n",
       "      <td>3</td>\n",
       "      <td>17623</td>\n",
       "      <td>2</td>\n",
       "      <td>169</td>\n",
       "      <td>82.0</td>\n",
       "      <td>150</td>\n",
       "      <td>100</td>\n",
       "      <td>1</td>\n",
       "      <td>1</td>\n",
       "      <td>0</td>\n",
       "      <td>0</td>\n",
       "      <td>1</td>\n",
       "      <td>1</td>\n",
       "    </tr>\n",
       "    <tr>\n",
       "      <th>4</th>\n",
       "      <td>4</td>\n",
       "      <td>17474</td>\n",
       "      <td>1</td>\n",
       "      <td>156</td>\n",
       "      <td>56.0</td>\n",
       "      <td>100</td>\n",
       "      <td>60</td>\n",
       "      <td>1</td>\n",
       "      <td>1</td>\n",
       "      <td>0</td>\n",
       "      <td>0</td>\n",
       "      <td>0</td>\n",
       "      <td>0</td>\n",
       "    </tr>\n",
       "  </tbody>\n",
       "</table>\n",
       "</div>"
      ],
      "text/plain": [
       "   id    age  gender  height  weight  ap_hi  ap_lo  cholesterol  gluc  smoke  \\\n",
       "0   0  18393       2     168    62.0    110     80            1     1      0   \n",
       "1   1  20228       1     156    85.0    140     90            3     1      0   \n",
       "2   2  18857       1     165    64.0    130     70            3     1      0   \n",
       "3   3  17623       2     169    82.0    150    100            1     1      0   \n",
       "4   4  17474       1     156    56.0    100     60            1     1      0   \n",
       "\n",
       "   alco  active  cardio  \n",
       "0     0       1       0  \n",
       "1     0       1       1  \n",
       "2     0       0       1  \n",
       "3     0       1       1  \n",
       "4     0       0       0  "
      ]
     },
     "execution_count": 5,
     "metadata": {},
     "output_type": "execute_result"
    }
   ],
   "source": [
    "dados.head()"
   ]
  },
  {
   "cell_type": "code",
   "execution_count": 6,
   "id": "d5c1b064",
   "metadata": {},
   "outputs": [
    {
     "name": "stdout",
     "output_type": "stream",
     "text": [
      "<class 'pandas.core.frame.DataFrame'>\n",
      "RangeIndex: 70000 entries, 0 to 69999\n",
      "Data columns (total 13 columns):\n",
      " #   Column       Non-Null Count  Dtype  \n",
      "---  ------       --------------  -----  \n",
      " 0   id           70000 non-null  int64  \n",
      " 1   age          70000 non-null  int64  \n",
      " 2   gender       70000 non-null  int64  \n",
      " 3   height       70000 non-null  int64  \n",
      " 4   weight       70000 non-null  float64\n",
      " 5   ap_hi        70000 non-null  int64  \n",
      " 6   ap_lo        70000 non-null  int64  \n",
      " 7   cholesterol  70000 non-null  int64  \n",
      " 8   gluc         70000 non-null  int64  \n",
      " 9   smoke        70000 non-null  int64  \n",
      " 10  alco         70000 non-null  int64  \n",
      " 11  active       70000 non-null  int64  \n",
      " 12  cardio       70000 non-null  int64  \n",
      "dtypes: float64(1), int64(12)\n",
      "memory usage: 6.9 MB\n"
     ]
    }
   ],
   "source": [
    "dados.info()"
   ]
  },
  {
   "cell_type": "markdown",
   "id": "e1387f64",
   "metadata": {},
   "source": [
    "A base de dados não possui valores faltantes."
   ]
  },
  {
   "cell_type": "markdown",
   "id": "5012e1f3",
   "metadata": {},
   "source": [
    "### - Análise inicial"
   ]
  },
  {
   "cell_type": "markdown",
   "id": "2d5e6dd8",
   "metadata": {},
   "source": [
    "#### - Coluna de identificação"
   ]
  },
  {
   "cell_type": "code",
   "execution_count": 7,
   "id": "b017d510",
   "metadata": {},
   "outputs": [
    {
     "data": {
      "text/plain": [
       "70000"
      ]
     },
     "execution_count": 7,
     "metadata": {},
     "output_type": "execute_result"
    }
   ],
   "source": [
    "len(np.unique(dados.id))"
   ]
  },
  {
   "cell_type": "markdown",
   "id": "a231a4e0",
   "metadata": {},
   "source": [
    "- Não temos identificações repetidas"
   ]
  },
  {
   "cell_type": "markdown",
   "id": "6a302196",
   "metadata": {},
   "source": [
    "#### - Variáveis categóricas"
   ]
  },
  {
   "cell_type": "code",
   "execution_count": 8,
   "id": "901afa17",
   "metadata": {},
   "outputs": [
    {
     "name": "stdout",
     "output_type": "stream",
     "text": [
      "valores das variáveis:\n",
      "cholesterol:[1 2 3],\n",
      "gluc: [1 2 3],\n",
      "smoke: [0 1],\n",
      "alco: [0 1],\n",
      "active: [0 1],\n",
      "cardio: [0 1]\n",
      "gender: [1 2]\n"
     ]
    }
   ],
   "source": [
    "print(f\"valores das variáveis:\\ncholesterol:{np.unique(dados.cholesterol)},\\ngluc: {np.unique(dados.gluc)},\\n\\\n",
    "smoke: {np.unique(dados.smoke)},\\nalco: {np.unique(dados.alco)},\\nactive: {np.unique(dados.active)},\\n\\\n",
    "cardio: {np.unique(dados.cardio)}\\ngender: {np.unique(dados.gender)}\")"
   ]
  },
  {
   "cell_type": "markdown",
   "id": "52b0e1fd",
   "metadata": {},
   "source": [
    "- As variáveis categóricas não possuem valores fora do esperado."
   ]
  },
  {
   "cell_type": "markdown",
   "id": "b25a8546",
   "metadata": {},
   "source": [
    "#### - Variáveis quantitativas"
   ]
  },
  {
   "cell_type": "code",
   "execution_count": 9,
   "id": "88520b22",
   "metadata": {},
   "outputs": [
    {
     "name": "stdout",
     "output_type": "stream",
     "text": [
      "As idades informadas estão entre 30.0 e 65.0 anos.\n"
     ]
    }
   ],
   "source": [
    "dados['age_year'] = round(dados['age']/365)\n",
    "print(f\"As idades informadas estão entre {min(dados['age_year'])} e {max(dados['age_year'])} anos.\")"
   ]
  },
  {
   "cell_type": "code",
   "execution_count": 10,
   "id": "744bd379",
   "metadata": {},
   "outputs": [
    {
     "name": "stdout",
     "output_type": "stream",
     "text": [
      "Peso mais baixo: 10.0, maior peso: 200.0\n",
      "Menor altura: 55, maior altura: 250\n"
     ]
    }
   ],
   "source": [
    "print(f'Peso mais baixo: {min(dados.weight)}, maior peso: {max(dados.weight)}')\n",
    "print(f'Menor altura: {min(dados.height)}, maior altura: {max(dados.height)}')"
   ]
  },
  {
   "cell_type": "markdown",
   "id": "3b94821d",
   "metadata": {},
   "source": [
    "- Para facilitar a utilização desses dados na predição o índice de massa corporal."
   ]
  },
  {
   "cell_type": "code",
   "execution_count": 11,
   "id": "edfa4775",
   "metadata": {},
   "outputs": [],
   "source": [
    "dados['imc'] = dados.weight/(dados.height/100)**2"
   ]
  },
  {
   "cell_type": "code",
   "execution_count": 12,
   "id": "9744fe22",
   "metadata": {},
   "outputs": [
    {
     "name": "stdout",
     "output_type": "stream",
     "text": [
      "Pressão arterial sistólica mais baixa -150 e mais alta 16020.\n"
     ]
    }
   ],
   "source": [
    "print(f\"Pressão arterial sistólica mais baixa {min(dados['ap_hi'])} e mais alta {max(dados['ap_hi'])}.\")"
   ]
  },
  {
   "cell_type": "code",
   "execution_count": 13,
   "id": "a7ca4c98",
   "metadata": {},
   "outputs": [
    {
     "name": "stdout",
     "output_type": "stream",
     "text": [
      "Pressão arterial diastólica mais baixa -70 e mais alta 11000.\n"
     ]
    }
   ],
   "source": [
    "print(f\"Pressão arterial diastólica mais baixa {min(dados['ap_lo'])} e mais alta {max(dados['ap_lo'])}.\")"
   ]
  },
  {
   "cell_type": "markdown",
   "id": "e2fa143f",
   "metadata": {},
   "source": [
    "- Como temos alguns valores que parecem destoar da realidade, vamos criar categorizar as variáveis de forma que o classificador tenha sucesso na hora da predição."
   ]
  },
  {
   "cell_type": "code",
   "execution_count": 14,
   "id": "a39db9f5",
   "metadata": {},
   "outputs": [],
   "source": [
    "dados.loc[(dados.ap_hi < 130), 'cat_aphi'] = 'normal'\n",
    "dados.loc[(dados.ap_hi >= 130) & (dados.ap_hi < 140), 'cat_aphi'] = 'normal alto'\n",
    "dados.loc[(dados.ap_hi >= 140) & (dados.ap_hi < 159), 'cat_aphi'] = 'Hipertensão de grau 1'\n",
    "dados.loc[(dados.ap_hi >= 160), 'cat_aphi'] = 'Hipertensão de grau 2'"
   ]
  },
  {
   "cell_type": "code",
   "execution_count": 15,
   "id": "bbff5115",
   "metadata": {},
   "outputs": [],
   "source": [
    "dados.loc[(dados.ap_lo < 85), 'cat_aplo'] = 'normal'\n",
    "dados.loc[(dados.ap_lo >= 85) & (dados.ap_lo < 90), 'cat_aplo'] = 'normal alto'\n",
    "dados.loc[(dados.ap_lo >= 90) & (dados.ap_lo < 99), 'cat_aplo'] = 'Hipertensão de grau 1'\n",
    "dados.loc[(dados.ap_lo >= 100), 'cat_aplo'] = 'Hipertensão de grau 2'"
   ]
  },
  {
   "cell_type": "code",
   "execution_count": 16,
   "id": "1e86e33c",
   "metadata": {},
   "outputs": [],
   "source": [
    "dados.imc = pd.to_numeric(dados.imc)\n",
    "dados.loc[(dados.imc < 16), 'cat_imc'] = 'subpeso severo'\n",
    "dados.loc[(dados.imc >= 16) & (dados.imc < 20), 'cat_imc'] = 'subpeso'\n",
    "dados.loc[(dados.imc >= 20) & (dados.imc < 25), 'cat_imc'] = 'normal'\n",
    "dados.loc[(dados.imc >= 25) & (dados.imc < 30), 'cat_imc'] = 'sobrepeso'\n",
    "dados.loc[(dados.imc >= 30) & (dados.imc < 40), 'cat_imc'] = 'obesidade'\n",
    "dados.loc[(dados.imc >= 40), 'cat_imc'] = 'obesidade mórbida'"
   ]
  },
  {
   "cell_type": "code",
   "execution_count": 17,
   "id": "e97ce673",
   "metadata": {},
   "outputs": [],
   "source": [
    "dados.loc[(dados.age_year >= 30) & (dados.age_year < 40), 'cat_age'] = '[30, 40)'\n",
    "dados.loc[(dados.age_year >= 40) & (dados.age_year < 50), 'cat_age'] = '[40, 50)'\n",
    "dados.loc[(dados.age_year >= 50) & (dados.age_year < 60), 'cat_age'] = '[50, 60)'\n",
    "dados.loc[(dados.age_year >= 60) & (dados.age_year <= 65), 'cat_age'] = '[60, 65]'"
   ]
  },
  {
   "cell_type": "code",
   "execution_count": 18,
   "id": "9af61a45",
   "metadata": {},
   "outputs": [],
   "source": [
    "dados.gender = dados.gender.replace([1, 2], ['M', 'H'])"
   ]
  },
  {
   "cell_type": "code",
   "execution_count": 19,
   "id": "05e075dd",
   "metadata": {},
   "outputs": [
    {
     "data": {
      "text/html": [
       "<div>\n",
       "<style scoped>\n",
       "    .dataframe tbody tr th:only-of-type {\n",
       "        vertical-align: middle;\n",
       "    }\n",
       "\n",
       "    .dataframe tbody tr th {\n",
       "        vertical-align: top;\n",
       "    }\n",
       "\n",
       "    .dataframe thead th {\n",
       "        text-align: right;\n",
       "    }\n",
       "</style>\n",
       "<table border=\"1\" class=\"dataframe\">\n",
       "  <thead>\n",
       "    <tr style=\"text-align: right;\">\n",
       "      <th></th>\n",
       "      <th>id</th>\n",
       "      <th>age</th>\n",
       "      <th>gender</th>\n",
       "      <th>height</th>\n",
       "      <th>weight</th>\n",
       "      <th>ap_hi</th>\n",
       "      <th>ap_lo</th>\n",
       "      <th>cholesterol</th>\n",
       "      <th>gluc</th>\n",
       "      <th>smoke</th>\n",
       "      <th>alco</th>\n",
       "      <th>active</th>\n",
       "      <th>cardio</th>\n",
       "      <th>age_year</th>\n",
       "      <th>imc</th>\n",
       "      <th>cat_aphi</th>\n",
       "      <th>cat_aplo</th>\n",
       "      <th>cat_imc</th>\n",
       "      <th>cat_age</th>\n",
       "    </tr>\n",
       "  </thead>\n",
       "  <tbody>\n",
       "    <tr>\n",
       "      <th>0</th>\n",
       "      <td>0</td>\n",
       "      <td>18393</td>\n",
       "      <td>H</td>\n",
       "      <td>168</td>\n",
       "      <td>62.0</td>\n",
       "      <td>110</td>\n",
       "      <td>80</td>\n",
       "      <td>1</td>\n",
       "      <td>1</td>\n",
       "      <td>0</td>\n",
       "      <td>0</td>\n",
       "      <td>1</td>\n",
       "      <td>0</td>\n",
       "      <td>50.0</td>\n",
       "      <td>21.967120</td>\n",
       "      <td>normal</td>\n",
       "      <td>normal</td>\n",
       "      <td>normal</td>\n",
       "      <td>[50, 60)</td>\n",
       "    </tr>\n",
       "    <tr>\n",
       "      <th>1</th>\n",
       "      <td>1</td>\n",
       "      <td>20228</td>\n",
       "      <td>M</td>\n",
       "      <td>156</td>\n",
       "      <td>85.0</td>\n",
       "      <td>140</td>\n",
       "      <td>90</td>\n",
       "      <td>3</td>\n",
       "      <td>1</td>\n",
       "      <td>0</td>\n",
       "      <td>0</td>\n",
       "      <td>1</td>\n",
       "      <td>1</td>\n",
       "      <td>55.0</td>\n",
       "      <td>34.927679</td>\n",
       "      <td>Hipertensão de grau 1</td>\n",
       "      <td>Hipertensão de grau 1</td>\n",
       "      <td>obesidade</td>\n",
       "      <td>[50, 60)</td>\n",
       "    </tr>\n",
       "    <tr>\n",
       "      <th>2</th>\n",
       "      <td>2</td>\n",
       "      <td>18857</td>\n",
       "      <td>M</td>\n",
       "      <td>165</td>\n",
       "      <td>64.0</td>\n",
       "      <td>130</td>\n",
       "      <td>70</td>\n",
       "      <td>3</td>\n",
       "      <td>1</td>\n",
       "      <td>0</td>\n",
       "      <td>0</td>\n",
       "      <td>0</td>\n",
       "      <td>1</td>\n",
       "      <td>52.0</td>\n",
       "      <td>23.507805</td>\n",
       "      <td>normal alto</td>\n",
       "      <td>normal</td>\n",
       "      <td>normal</td>\n",
       "      <td>[50, 60)</td>\n",
       "    </tr>\n",
       "    <tr>\n",
       "      <th>3</th>\n",
       "      <td>3</td>\n",
       "      <td>17623</td>\n",
       "      <td>H</td>\n",
       "      <td>169</td>\n",
       "      <td>82.0</td>\n",
       "      <td>150</td>\n",
       "      <td>100</td>\n",
       "      <td>1</td>\n",
       "      <td>1</td>\n",
       "      <td>0</td>\n",
       "      <td>0</td>\n",
       "      <td>1</td>\n",
       "      <td>1</td>\n",
       "      <td>48.0</td>\n",
       "      <td>28.710479</td>\n",
       "      <td>Hipertensão de grau 1</td>\n",
       "      <td>Hipertensão de grau 2</td>\n",
       "      <td>sobrepeso</td>\n",
       "      <td>[40, 50)</td>\n",
       "    </tr>\n",
       "    <tr>\n",
       "      <th>4</th>\n",
       "      <td>4</td>\n",
       "      <td>17474</td>\n",
       "      <td>M</td>\n",
       "      <td>156</td>\n",
       "      <td>56.0</td>\n",
       "      <td>100</td>\n",
       "      <td>60</td>\n",
       "      <td>1</td>\n",
       "      <td>1</td>\n",
       "      <td>0</td>\n",
       "      <td>0</td>\n",
       "      <td>0</td>\n",
       "      <td>0</td>\n",
       "      <td>48.0</td>\n",
       "      <td>23.011177</td>\n",
       "      <td>normal</td>\n",
       "      <td>normal</td>\n",
       "      <td>normal</td>\n",
       "      <td>[40, 50)</td>\n",
       "    </tr>\n",
       "  </tbody>\n",
       "</table>\n",
       "</div>"
      ],
      "text/plain": [
       "   id    age gender  height  weight  ap_hi  ap_lo  cholesterol  gluc  smoke  \\\n",
       "0   0  18393      H     168    62.0    110     80            1     1      0   \n",
       "1   1  20228      M     156    85.0    140     90            3     1      0   \n",
       "2   2  18857      M     165    64.0    130     70            3     1      0   \n",
       "3   3  17623      H     169    82.0    150    100            1     1      0   \n",
       "4   4  17474      M     156    56.0    100     60            1     1      0   \n",
       "\n",
       "   alco  active  cardio  age_year        imc               cat_aphi  \\\n",
       "0     0       1       0      50.0  21.967120                 normal   \n",
       "1     0       1       1      55.0  34.927679  Hipertensão de grau 1   \n",
       "2     0       0       1      52.0  23.507805            normal alto   \n",
       "3     0       1       1      48.0  28.710479  Hipertensão de grau 1   \n",
       "4     0       0       0      48.0  23.011177                 normal   \n",
       "\n",
       "                cat_aplo    cat_imc   cat_age  \n",
       "0                 normal     normal  [50, 60)  \n",
       "1  Hipertensão de grau 1  obesidade  [50, 60)  \n",
       "2                 normal     normal  [50, 60)  \n",
       "3  Hipertensão de grau 2  sobrepeso  [40, 50)  \n",
       "4                 normal     normal  [40, 50)  "
      ]
     },
     "execution_count": 19,
     "metadata": {},
     "output_type": "execute_result"
    }
   ],
   "source": [
    "dados.head()"
   ]
  },
  {
   "cell_type": "code",
   "execution_count": 20,
   "id": "86159670",
   "metadata": {},
   "outputs": [],
   "source": [
    "data_to_predict = dados[['gender', 'cholesterol', 'gluc', 'smoke', 'alco', 'cat_aphi', 'cat_aplo', 'cat_imc', 'cat_age', 'active', 'cardio']]"
   ]
  },
  {
   "cell_type": "markdown",
   "id": "fbe90378",
   "metadata": {},
   "source": [
    "## - Análise Visual"
   ]
  },
  {
   "cell_type": "code",
   "execution_count": 21,
   "id": "7c7a565e",
   "metadata": {},
   "outputs": [
    {
     "data": {
      "text/html": [
       "<div>\n",
       "<style scoped>\n",
       "    .dataframe tbody tr th:only-of-type {\n",
       "        vertical-align: middle;\n",
       "    }\n",
       "\n",
       "    .dataframe tbody tr th {\n",
       "        vertical-align: top;\n",
       "    }\n",
       "\n",
       "    .dataframe thead th {\n",
       "        text-align: right;\n",
       "    }\n",
       "</style>\n",
       "<table border=\"1\" class=\"dataframe\">\n",
       "  <thead>\n",
       "    <tr style=\"text-align: right;\">\n",
       "      <th></th>\n",
       "      <th>gender</th>\n",
       "      <th>cholesterol</th>\n",
       "      <th>gluc</th>\n",
       "      <th>smoke</th>\n",
       "      <th>alco</th>\n",
       "      <th>cat_aphi</th>\n",
       "      <th>cat_aplo</th>\n",
       "      <th>cat_imc</th>\n",
       "      <th>cat_age</th>\n",
       "      <th>active</th>\n",
       "      <th>cardio</th>\n",
       "    </tr>\n",
       "  </thead>\n",
       "  <tbody>\n",
       "    <tr>\n",
       "      <th>0</th>\n",
       "      <td>H</td>\n",
       "      <td>1</td>\n",
       "      <td>1</td>\n",
       "      <td>0</td>\n",
       "      <td>0</td>\n",
       "      <td>normal</td>\n",
       "      <td>normal</td>\n",
       "      <td>normal</td>\n",
       "      <td>[50, 60)</td>\n",
       "      <td>1</td>\n",
       "      <td>0</td>\n",
       "    </tr>\n",
       "    <tr>\n",
       "      <th>1</th>\n",
       "      <td>M</td>\n",
       "      <td>3</td>\n",
       "      <td>1</td>\n",
       "      <td>0</td>\n",
       "      <td>0</td>\n",
       "      <td>Hipertensão de grau 1</td>\n",
       "      <td>Hipertensão de grau 1</td>\n",
       "      <td>obesidade</td>\n",
       "      <td>[50, 60)</td>\n",
       "      <td>1</td>\n",
       "      <td>1</td>\n",
       "    </tr>\n",
       "    <tr>\n",
       "      <th>2</th>\n",
       "      <td>M</td>\n",
       "      <td>3</td>\n",
       "      <td>1</td>\n",
       "      <td>0</td>\n",
       "      <td>0</td>\n",
       "      <td>normal alto</td>\n",
       "      <td>normal</td>\n",
       "      <td>normal</td>\n",
       "      <td>[50, 60)</td>\n",
       "      <td>0</td>\n",
       "      <td>1</td>\n",
       "    </tr>\n",
       "    <tr>\n",
       "      <th>3</th>\n",
       "      <td>H</td>\n",
       "      <td>1</td>\n",
       "      <td>1</td>\n",
       "      <td>0</td>\n",
       "      <td>0</td>\n",
       "      <td>Hipertensão de grau 1</td>\n",
       "      <td>Hipertensão de grau 2</td>\n",
       "      <td>sobrepeso</td>\n",
       "      <td>[40, 50)</td>\n",
       "      <td>1</td>\n",
       "      <td>1</td>\n",
       "    </tr>\n",
       "    <tr>\n",
       "      <th>4</th>\n",
       "      <td>M</td>\n",
       "      <td>1</td>\n",
       "      <td>1</td>\n",
       "      <td>0</td>\n",
       "      <td>0</td>\n",
       "      <td>normal</td>\n",
       "      <td>normal</td>\n",
       "      <td>normal</td>\n",
       "      <td>[40, 50)</td>\n",
       "      <td>0</td>\n",
       "      <td>0</td>\n",
       "    </tr>\n",
       "  </tbody>\n",
       "</table>\n",
       "</div>"
      ],
      "text/plain": [
       "  gender  cholesterol  gluc  smoke  alco               cat_aphi  \\\n",
       "0      H            1     1      0     0                 normal   \n",
       "1      M            3     1      0     0  Hipertensão de grau 1   \n",
       "2      M            3     1      0     0            normal alto   \n",
       "3      H            1     1      0     0  Hipertensão de grau 1   \n",
       "4      M            1     1      0     0                 normal   \n",
       "\n",
       "                cat_aplo    cat_imc   cat_age  active  cardio  \n",
       "0                 normal     normal  [50, 60)       1       0  \n",
       "1  Hipertensão de grau 1  obesidade  [50, 60)       1       1  \n",
       "2                 normal     normal  [50, 60)       0       1  \n",
       "3  Hipertensão de grau 2  sobrepeso  [40, 50)       1       1  \n",
       "4                 normal     normal  [40, 50)       0       0  "
      ]
     },
     "execution_count": 21,
     "metadata": {},
     "output_type": "execute_result"
    }
   ],
   "source": [
    "data_to_predict.head()"
   ]
  },
  {
   "cell_type": "code",
   "execution_count": 22,
   "id": "c1fc5230",
   "metadata": {},
   "outputs": [
    {
     "data": {
      "image/png": "[encoded data removed]",
      "text/plain": [
       "<Figure size 864x432 with 1 Axes>"
      ]
     },
     "metadata": {},
     "output_type": "display_data"
    }
   ],
   "source": [
    "plt.figure(figsize = (12, 6))\n",
    "genero = sns.countplot(x = 'gender', hue = 'cardio', data = data_to_predict, palette = ['blue', 'red'])\n",
    "genero.set_title(\"Casos de doença cardiovascular por gênero\", fontsize = 20, loc = 'left')\n",
    "genero.set_xlabel(\"Gênero\", fontsize = 14)\n",
    "genero.set_ylabel(\"Quantidade\", fontsize = 14)\n",
    "genero.legend(['Saudável', 'Doente'], fontsize = 12)\n",
    "genero.set_xticklabels(['Homens', 'Mulheres'], fontsize = 12)\n",
    "genero = genero"
   ]
  },
  {
   "cell_type": "markdown",
   "id": "a8d917c1",
   "metadata": {},
   "source": [
    "- A proporção de doença cardiovascular é muito semelhante entre homens e mulheres. "
   ]
  },
  {
   "cell_type": "code",
   "execution_count": 23,
   "id": "1734d61c",
   "metadata": {},
   "outputs": [
    {
     "data": {
      "image/png": "[encoded data removed]",
      "text/plain": [
       "<Figure size 864x432 with 1 Axes>"
      ]
     },
     "metadata": {},
     "output_type": "display_data"
    }
   ],
   "source": [
    "plt.figure(figsize = (12, 6))\n",
    "col = sns.countplot(x = 'cholesterol', hue = 'cardio', data = data_to_predict, palette = ['blue', 'red'])\n",
    "col.set_title(\"Casos de doença cardiovascular por nível de colesterol\", fontsize = 20, loc = 'left')\n",
    "col.set_xlabel(\"Nível de colesterol\", fontsize = 14)\n",
    "col.set_ylabel(\"Quantidade\", fontsize = 14)\n",
    "col.legend(['Saudável', 'Doente'], fontsize = 12)\n",
    "col.set_xticklabels(['normal', 'acima do normal', 'bem acima do normal'], fontsize = 12)\n",
    "col = col"
   ]
  },
  {
   "cell_type": "markdown",
   "id": "3b3d4b96",
   "metadata": {},
   "source": [
    "- Quanto maior o nível de colesterol maior a proporção de incidência de doença cardiovascular."
   ]
  },
  {
   "cell_type": "code",
   "execution_count": 24,
   "id": "9c37b2e5",
   "metadata": {},
   "outputs": [
    {
     "data": {
      "image/png": "[encoded data removed]",
      "text/plain": [
       "<Figure size 864x432 with 1 Axes>"
      ]
     },
     "metadata": {},
     "output_type": "display_data"
    }
   ],
   "source": [
    "plt.figure(figsize = (12, 6))\n",
    "gli = sns.countplot(x = 'gluc', hue = 'cardio', data = data_to_predict, palette = ['blue', 'red'])\n",
    "gli.set_title(\"Casos de doença cardiovascular por nível de glicose\", fontsize = 20, loc = 'left')\n",
    "gli.set_xlabel(\"Nível de glicose\", fontsize = 14)\n",
    "gli.set_ylabel(\"Quantidade\", fontsize = 14)\n",
    "gli.legend(['Saudável', 'Doente'], fontsize = 12)\n",
    "gli.set_xticklabels(['normal', 'acima do normal', 'bem acima do normal'], fontsize = 12)\n",
    "gli = gli"
   ]
  },
  {
   "cell_type": "markdown",
   "id": "906ddba2",
   "metadata": {},
   "source": [
    "- A proporção de doença cardiovascular aumenta com o aumento do nível de glicose."
   ]
  },
  {
   "cell_type": "code",
   "execution_count": 25,
   "id": "a70e29f7",
   "metadata": {},
   "outputs": [
    {
     "data": {
      "image/png": "[encoded data removed]",
      "text/plain": [
       "<Figure size 864x432 with 1 Axes>"
      ]
     },
     "metadata": {},
     "output_type": "display_data"
    }
   ],
   "source": [
    "plt.figure(figsize = (12, 6))\n",
    "fumo = sns.countplot(x = 'smoke', hue = 'cardio', data = data_to_predict, palette = ['blue', 'red'])\n",
    "fumo.set_title(\"Casos de doença cardiovascular entre fumantes\", fontsize = 20, loc = 'left')\n",
    "fumo.set_xlabel(\"\")\n",
    "fumo.set_ylabel(\"Quantidade\", fontsize = 14)\n",
    "fumo.legend(['Saudável', 'Doente'], fontsize = 12)\n",
    "fumo.set_xticklabels(['Não fumante', 'Fumante'], fontsize = 15)\n",
    "fumo = fumo"
   ]
  },
  {
   "cell_type": "markdown",
   "id": "7819ac54",
   "metadata": {},
   "source": [
    "- A proporção de doença cardiovascular parece não ser afetada significativamente pelo consumo de cigarros."
   ]
  },
  {
   "cell_type": "code",
   "execution_count": 26,
   "id": "6085f598",
   "metadata": {},
   "outputs": [
    {
     "data": {
      "image/png": "[encoded data removed]",
      "text/plain": [
       "<Figure size 864x432 with 1 Axes>"
      ]
     },
     "metadata": {},
     "output_type": "display_data"
    }
   ],
   "source": [
    "plt.figure(figsize = (12, 6))\n",
    "alc = sns.countplot(x = 'alco', hue = 'cardio', data = data_to_predict, palette = ['blue', 'red'])\n",
    "alc.set_title(\"Casos de doença cardiovascular entre consumidores de álcool\", fontsize = 20, loc = 'left')\n",
    "alc.set_xlabel(\"Consumo de álcool\")\n",
    "alc.set_ylabel(\"Quantidade\", fontsize = 14)\n",
    "alc.legend(['Saudável', 'Doente'], fontsize = 12)\n",
    "alc.set_xticklabels(['Não consumidor', 'Consumidor'], fontsize = 15)\n",
    "alc = alc"
   ]
  },
  {
   "cell_type": "markdown",
   "id": "ca4dd942",
   "metadata": {},
   "source": [
    "- O consumo de álcool não influência na ocorrência de doença cardiovascular."
   ]
  },
  {
   "cell_type": "code",
   "execution_count": 27,
   "id": "f3200abd",
   "metadata": {},
   "outputs": [
    {
     "data": {
      "image/png": "[encoded data removed]",
      "text/plain": [
       "<Figure size 864x432 with 1 Axes>"
      ]
     },
     "metadata": {},
     "output_type": "display_data"
    }
   ],
   "source": [
    "plt.figure(figsize = (12, 6))\n",
    "sist = sns.countplot(x = 'cat_aphi', hue = 'cardio', data = data_to_predict, palette = ['blue', 'red'],\n",
    "                      order = ['normal', 'normal alto', 'Hipertensão de grau 1', 'Hipertensão de grau 2'])\n",
    "sist.set_title(\"Casos de doença cardiovascular de acordo com a pressão arterial sistólica\", fontsize = 20, loc = 'left')\n",
    "sist.set_xlabel(\"Nível da pressão arterial sistólica\", fontsize = 14)\n",
    "sist.set_ylabel(\"Quantidade\", fontsize = 14)\n",
    "sist.legend(['Saudável', 'Doente'], fontsize = 12)\n",
    "sist.set_xticklabels(['Normal', 'Normal alta', 'Hipertensão de grau 1', 'Hipertensão de grau 2'], fontsize = 12)\n",
    "sist = sist"
   ]
  },
  {
   "cell_type": "markdown",
   "id": "30be1d12",
   "metadata": {},
   "source": [
    "- A proporção da doença aumenta significativamente com o aumento da pressão arterial sistólica. O nível de hipertensão de grau 1 parece ser o grau de pressão que mais afeta a causa da doença."
   ]
  },
  {
   "cell_type": "code",
   "execution_count": 28,
   "id": "4cfe8ed4",
   "metadata": {},
   "outputs": [
    {
     "data": {
      "image/png": "[encoded data removed]",
      "text/plain": [
       "<Figure size 864x432 with 1 Axes>"
      ]
     },
     "metadata": {},
     "output_type": "display_data"
    }
   ],
   "source": [
    "plt.figure(figsize = (12, 6))\n",
    "dias = sns.countplot(x = 'cat_aplo', hue = 'cardio', data = data_to_predict, palette = ['blue', 'red'],\n",
    "                       order = ['normal', 'normal alto', 'Hipertensão de grau 1', 'Hipertensão de grau 2'])\n",
    "dias.set_title(\"Casos de doença cardiovascular de acordo com a pressão arterial diastólica\", fontsize = 20, loc = 'left')\n",
    "dias.set_xlabel(\"Nível da pressão arterial diastólica\", fontsize = 14)\n",
    "dias.set_ylabel(\"Quantidade\", fontsize = 14)\n",
    "dias.legend(['Saudável', 'Doente'], fontsize = 12)\n",
    "dias.set_xticklabels(['Normal', 'Normal alta', 'Hipertensão de grau 1', 'Hipertensão de grau 2'], fontsize = 12)\n",
    "dias = dias"
   ]
  },
  {
   "cell_type": "markdown",
   "id": "d6340929",
   "metadata": {},
   "source": [
    "- Assim como a pressão arterial sistólica, a pressão arterial diastélica também afeta a ocorrência de doença cardiovascular."
   ]
  },
  {
   "cell_type": "code",
   "execution_count": 29,
   "id": "27004968",
   "metadata": {},
   "outputs": [
    {
     "data": {
      "image/png": "[encoded data removed]",
      "text/plain": [
       "<Figure size 1008x432 with 1 Axes>"
      ]
     },
     "metadata": {},
     "output_type": "display_data"
    }
   ],
   "source": [
    "plt.figure(figsize = (14, 6))\n",
    "imc = sns.countplot(x = 'cat_imc', hue = 'cardio', data = data_to_predict, palette = ['blue', 'red'],\n",
    "                      order = ['subpeso severo', 'subpeso', 'normal', 'sobrepeso', 'obesidade', 'obesidade mórbida'])\n",
    "imc.set_title(\"Casos de doença cardiovascular de acordo com o índice de massa corporal\", fontsize = 20, loc = 'left')\n",
    "imc.set_xlabel(\"Nível de IMC\", fontsize = 14)\n",
    "imc.set_ylabel(\"Quantidade\", fontsize = 14)\n",
    "imc.legend(['Saudável', 'Doente'], fontsize = 12)\n",
    "imc.set_xticklabels(['Subpeso Severo', 'Subpeso', 'Normal', 'Sobrepeso', 'Obesidade', 'Obesidade Mórbida'], fontsize = 12)\n",
    "imc = imc"
   ]
  },
  {
   "cell_type": "markdown",
   "id": "09326afa",
   "metadata": {},
   "source": [
    "- Aqui também é fácil perceber que o aumento do índice de massa corporal influencia na proporção da incidência de doença cardiovascular, principalmente no nível de obesidade."
   ]
  },
  {
   "cell_type": "code",
   "execution_count": 30,
   "id": "28cb19f2",
   "metadata": {},
   "outputs": [
    {
     "data": {
      "image/png": "[encoded data removed]",
      "text/plain": [
       "<Figure size 1008x432 with 1 Axes>"
      ]
     },
     "metadata": {},
     "output_type": "display_data"
    }
   ],
   "source": [
    "plt.figure(figsize = (14, 6))\n",
    "idade = sns.countplot(x = 'cat_age', hue = 'cardio', data = data_to_predict, palette = ['blue', 'red'],\n",
    "                       order = ['[30, 40)', '[40, 50)', '[50, 60)', '[60, 65]'])\n",
    "idade.set_title(\"Casos de doença cardiovascular de acordo com a faixa de idade\", fontsize = 20, loc = 'left')\n",
    "idade.set_xlabel(\"Faixa etária\", fontsize = 14)\n",
    "idade.set_ylabel(\"Quantidade\", fontsize = 14)\n",
    "idade.legend(['Saudável', 'Doente'], fontsize = 12)\n",
    "idade.set_xticklabels(['[30, 40)', '[40, 50)', '[50, 60)', '[60, 65]'], fontsize = 12)\n",
    "idade = idade"
   ]
  },
  {
   "cell_type": "markdown",
   "id": "f38d717d",
   "metadata": {},
   "source": [
    "- O risco de doença cardiovascular aumenta de acordo com a faixa etária, sendo muito mais incidênte após os 60 anos de idade."
   ]
  },
  {
   "cell_type": "code",
   "execution_count": 31,
   "id": "bc07a389",
   "metadata": {},
   "outputs": [
    {
     "data": {
      "image/png": "[encoded data removed]",
      "text/plain": [
       "<Figure size 1008x432 with 1 Axes>"
      ]
     },
     "metadata": {},
     "output_type": "display_data"
    }
   ],
   "source": [
    "plt.figure(figsize = (14, 6))\n",
    "ativ = sns.countplot(x = 'active', hue = 'cardio', data = data_to_predict, palette = ['blue', 'red'])\n",
    "ativ.set_title(\"Casos de doença cardiovascular em relação a atividade física\", fontsize = 20, loc = 'left')\n",
    "ativ.set_xlabel(\"\")\n",
    "ativ.set_ylabel(\"Quantidade\", fontsize = 14)\n",
    "ativ.legend(['Saudável', 'Doente'], fontsize = 12)\n",
    "ativ.set_xticklabels(['Sedentário', 'ativo'], fontsize = 15)\n",
    "ativ = ativ"
   ]
  },
  {
   "cell_type": "markdown",
   "id": "cd120467",
   "metadata": {},
   "source": [
    "- Atividade física parece influenciar muito pouco na proporção de incidência de doença cardiovascular."
   ]
  },
  {
   "cell_type": "markdown",
   "id": "16885b9d",
   "metadata": {},
   "source": [
    "- Pela análise visual vimos que as variáveis que mais influênciam na proporção de incidência de doença cardiovascular são:\n",
    ">Colesterol (cholesterol)\\\n",
    " Glicose (gluc)\\\n",
    " Pressão arterial sistólica (cat_aphi)\\\n",
    " Pressão arterial diastólica (cat_aplo)\\\n",
    " Índice de massa corporal (cat_imc)\\\n",
    " Faixa de idade (cat_age)"
   ]
  },
  {
   "cell_type": "markdown",
   "id": "7c0cac7a",
   "metadata": {},
   "source": [
    "## - Teste de Hipótese Qui-Quadrado de Pearson"
   ]
  },
  {
   "cell_type": "markdown",
   "id": "a876fda3",
   "metadata": {},
   "source": [
    "- Com a finalidade de confirmar a realação entre as variáveis vamos aplicar o teste qui-quadrado de pearson considerando com nível de confiança de 95%. As hipóteses nula e alternativa são:\n",
    "\n",
    "> $H_0:$ as duas variáveis categóricas se associam de forma aleatória;\\\n",
    "> $H_1:$  as duas variáveis categóricas não se associam de forma aleatória."
   ]
  },
  {
   "cell_type": "code",
   "execution_count": 32,
   "id": "0390f3e3",
   "metadata": {},
   "outputs": [],
   "source": [
    "tab_gender = pd.crosstab(data_to_predict.gender, data_to_predict.cardio)\n",
    "tab_chol = pd.crosstab(data_to_predict.cholesterol, data_to_predict.cardio)\n",
    "tab_gluc = pd.crosstab(data_to_predict.gluc, data_to_predict.cardio)\n",
    "tab_smoke = pd.crosstab(data_to_predict.smoke, data_to_predict.cardio)\n",
    "tab_alco = pd.crosstab(data_to_predict.alco, data_to_predict.cardio)\n",
    "tab_aphi = pd.crosstab(data_to_predict.cat_aphi, data_to_predict.cardio)\n",
    "tab_aplo = pd.crosstab(data_to_predict.cat_aplo, data_to_predict.cardio)\n",
    "tab_imc = pd.crosstab(data_to_predict.cat_imc, data_to_predict.cardio)\n",
    "tab_age = pd.crosstab(data_to_predict.cat_age, data_to_predict.cardio)\n",
    "tab_active = pd.crosstab(data_to_predict.active, data_to_predict.cardio)"
   ]
  },
  {
   "cell_type": "code",
   "execution_count": 33,
   "id": "44c0dba5",
   "metadata": {},
   "outputs": [],
   "source": [
    "_, p_gender, _, _ = chi2_contingency(tab_gender)\n",
    "_, p_chol, _, _ = chi2_contingency(tab_chol)\n",
    "_, p_gluc, _, _ = chi2_contingency(tab_gluc)\n",
    "_, p_smoke, _, _ = chi2_contingency(tab_smoke)\n",
    "_, p_alco, _, _ = chi2_contingency(tab_alco)\n",
    "_, p_aphi, _, _ = chi2_contingency(tab_aphi)\n",
    "_, p_aplo, _, _ = chi2_contingency(tab_aplo)\n",
    "_, p_imc, _, _ = chi2_contingency(tab_imc)\n",
    "_, p_age, _, _ = chi2_contingency(tab_age)\n",
    "_, p_active, _, _ = chi2_contingency(tab_active)"
   ]
  },
  {
   "cell_type": "code",
   "execution_count": 34,
   "id": "a3a52ce2",
   "metadata": {},
   "outputs": [
    {
     "name": "stdout",
     "output_type": "stream",
     "text": [
      "Resultado do p-valor para cada variável comparada com a ocorrência de doença cardio vascular:\n",
      " - Genero: 0.0325\n",
      " - Colesterol: 0.0\n",
      " - Glicose: 0.0\n",
      " - Fumante: 0.0\n",
      " - Ingestão de ácool: 0.0545\n",
      " - Pressão arterial sistólica: 0.0\n",
      " - Pressão arterial diastólica: 0.0\n",
      " - Indice de massa corporal: 0.0\n",
      " - Idade: 0.0\n",
      " - Atividade física: 0.0\n"
     ]
    }
   ],
   "source": [
    "print(\"Resultado do p-valor para cada variável comparada com a ocorrência de doença cardio vascular:\")\n",
    "print(\" - Genero:\", round(p_gender, 4))\n",
    "print(\" - Colesterol:\", round(p_chol, 4))\n",
    "print(\" - Glicose:\", round(p_gluc, 4))\n",
    "print(\" - Fumante:\", round(p_smoke, 4))\n",
    "print(\" - Ingestão de ácool:\", round(p_alco, 4))\n",
    "print(\" - Pressão arterial sistólica:\", round(p_aphi, 4))\n",
    "print(\" - Pressão arterial diastólica:\", round(p_aplo, 4))\n",
    "print(\" - Indice de massa corporal:\", round(p_imc, 4))\n",
    "print(\" - Idade:\", round(p_age, 4))\n",
    "print(\" - Atividade física:\", round(p_active, 4))"
   ]
  },
  {
   "cell_type": "markdown",
   "id": "c5ab8d26",
   "metadata": {},
   "source": [
    "> Ao nível de confiança de 95%, para rejeitarmos a hipótese nula ($H_0$), precisamos de um p-valor(porcentagem de cauda) menor que 0,05. Portanto, das variáveis acima a única que deve ser eliminada do modelo, ou seja, que se associa aleatóriamente com doença cardiovascular, é a ingestão de álcool."
   ]
  },
  {
   "cell_type": "markdown",
   "id": "822e2333",
   "metadata": {},
   "source": [
    "## - Preparando o modelo de classificação"
   ]
  },
  {
   "cell_type": "markdown",
   "id": "73b52198",
   "metadata": {},
   "source": [
    "- Preparando a classificação"
   ]
  },
  {
   "cell_type": "code",
   "execution_count": 35,
   "id": "89163bd8",
   "metadata": {},
   "outputs": [
    {
     "data": {
      "text/html": [
       "<div>\n",
       "<style scoped>\n",
       "    .dataframe tbody tr th:only-of-type {\n",
       "        vertical-align: middle;\n",
       "    }\n",
       "\n",
       "    .dataframe tbody tr th {\n",
       "        vertical-align: top;\n",
       "    }\n",
       "\n",
       "    .dataframe thead th {\n",
       "        text-align: right;\n",
       "    }\n",
       "</style>\n",
       "<table border=\"1\" class=\"dataframe\">\n",
       "  <thead>\n",
       "    <tr style=\"text-align: right;\">\n",
       "      <th></th>\n",
       "      <th>gender</th>\n",
       "      <th>cholesterol</th>\n",
       "      <th>gluc</th>\n",
       "      <th>smoke</th>\n",
       "      <th>alco</th>\n",
       "      <th>cat_aphi</th>\n",
       "      <th>cat_aplo</th>\n",
       "      <th>cat_imc</th>\n",
       "      <th>cat_age</th>\n",
       "      <th>active</th>\n",
       "      <th>cardio</th>\n",
       "    </tr>\n",
       "  </thead>\n",
       "  <tbody>\n",
       "    <tr>\n",
       "      <th>0</th>\n",
       "      <td>H</td>\n",
       "      <td>1</td>\n",
       "      <td>1</td>\n",
       "      <td>0</td>\n",
       "      <td>0</td>\n",
       "      <td>normal</td>\n",
       "      <td>normal</td>\n",
       "      <td>normal</td>\n",
       "      <td>[50, 60)</td>\n",
       "      <td>1</td>\n",
       "      <td>0</td>\n",
       "    </tr>\n",
       "    <tr>\n",
       "      <th>1</th>\n",
       "      <td>M</td>\n",
       "      <td>3</td>\n",
       "      <td>1</td>\n",
       "      <td>0</td>\n",
       "      <td>0</td>\n",
       "      <td>Hipertensão de grau 1</td>\n",
       "      <td>Hipertensão de grau 1</td>\n",
       "      <td>obesidade</td>\n",
       "      <td>[50, 60)</td>\n",
       "      <td>1</td>\n",
       "      <td>1</td>\n",
       "    </tr>\n",
       "    <tr>\n",
       "      <th>2</th>\n",
       "      <td>M</td>\n",
       "      <td>3</td>\n",
       "      <td>1</td>\n",
       "      <td>0</td>\n",
       "      <td>0</td>\n",
       "      <td>normal alto</td>\n",
       "      <td>normal</td>\n",
       "      <td>normal</td>\n",
       "      <td>[50, 60)</td>\n",
       "      <td>0</td>\n",
       "      <td>1</td>\n",
       "    </tr>\n",
       "    <tr>\n",
       "      <th>3</th>\n",
       "      <td>H</td>\n",
       "      <td>1</td>\n",
       "      <td>1</td>\n",
       "      <td>0</td>\n",
       "      <td>0</td>\n",
       "      <td>Hipertensão de grau 1</td>\n",
       "      <td>Hipertensão de grau 2</td>\n",
       "      <td>sobrepeso</td>\n",
       "      <td>[40, 50)</td>\n",
       "      <td>1</td>\n",
       "      <td>1</td>\n",
       "    </tr>\n",
       "    <tr>\n",
       "      <th>4</th>\n",
       "      <td>M</td>\n",
       "      <td>1</td>\n",
       "      <td>1</td>\n",
       "      <td>0</td>\n",
       "      <td>0</td>\n",
       "      <td>normal</td>\n",
       "      <td>normal</td>\n",
       "      <td>normal</td>\n",
       "      <td>[40, 50)</td>\n",
       "      <td>0</td>\n",
       "      <td>0</td>\n",
       "    </tr>\n",
       "  </tbody>\n",
       "</table>\n",
       "</div>"
      ],
      "text/plain": [
       "  gender  cholesterol  gluc  smoke  alco               cat_aphi  \\\n",
       "0      H            1     1      0     0                 normal   \n",
       "1      M            3     1      0     0  Hipertensão de grau 1   \n",
       "2      M            3     1      0     0            normal alto   \n",
       "3      H            1     1      0     0  Hipertensão de grau 1   \n",
       "4      M            1     1      0     0                 normal   \n",
       "\n",
       "                cat_aplo    cat_imc   cat_age  active  cardio  \n",
       "0                 normal     normal  [50, 60)       1       0  \n",
       "1  Hipertensão de grau 1  obesidade  [50, 60)       1       1  \n",
       "2                 normal     normal  [50, 60)       0       1  \n",
       "3  Hipertensão de grau 2  sobrepeso  [40, 50)       1       1  \n",
       "4                 normal     normal  [40, 50)       0       0  "
      ]
     },
     "execution_count": 35,
     "metadata": {},
     "output_type": "execute_result"
    }
   ],
   "source": [
    "data_to_predict.head()"
   ]
  },
  {
   "cell_type": "code",
   "execution_count": 36,
   "id": "69d25f6e",
   "metadata": {},
   "outputs": [
    {
     "name": "stdout",
     "output_type": "stream",
     "text": [
      "(70000, 9) (70000, 1)\n"
     ]
    }
   ],
   "source": [
    "x = data_to_predict[[\"gender\", \"cholesterol\", \"gluc\", \"smoke\", \"cat_aphi\", \"cat_aplo\", \"cat_imc\", \"cat_age\", \"active\"]]\n",
    "y = data_to_predict[[\"cardio\"]]\n",
    "print(x.shape, y.shape)"
   ]
  },
  {
   "cell_type": "code",
   "execution_count": 37,
   "id": "abe6f260",
   "metadata": {},
   "outputs": [
    {
     "data": {
      "text/html": [
       "<div>\n",
       "<style scoped>\n",
       "    .dataframe tbody tr th:only-of-type {\n",
       "        vertical-align: middle;\n",
       "    }\n",
       "\n",
       "    .dataframe tbody tr th {\n",
       "        vertical-align: top;\n",
       "    }\n",
       "\n",
       "    .dataframe thead th {\n",
       "        text-align: right;\n",
       "    }\n",
       "</style>\n",
       "<table border=\"1\" class=\"dataframe\">\n",
       "  <thead>\n",
       "    <tr style=\"text-align: right;\">\n",
       "      <th></th>\n",
       "      <th>gender</th>\n",
       "      <th>cholesterol</th>\n",
       "      <th>gluc</th>\n",
       "      <th>smoke</th>\n",
       "      <th>cat_aphi</th>\n",
       "      <th>cat_aplo</th>\n",
       "      <th>cat_imc</th>\n",
       "      <th>cat_age</th>\n",
       "      <th>active</th>\n",
       "    </tr>\n",
       "  </thead>\n",
       "  <tbody>\n",
       "    <tr>\n",
       "      <th>0</th>\n",
       "      <td>H</td>\n",
       "      <td>1</td>\n",
       "      <td>1</td>\n",
       "      <td>0</td>\n",
       "      <td>normal</td>\n",
       "      <td>normal</td>\n",
       "      <td>normal</td>\n",
       "      <td>[50, 60)</td>\n",
       "      <td>1</td>\n",
       "    </tr>\n",
       "    <tr>\n",
       "      <th>1</th>\n",
       "      <td>M</td>\n",
       "      <td>3</td>\n",
       "      <td>1</td>\n",
       "      <td>0</td>\n",
       "      <td>Hipertensão de grau 1</td>\n",
       "      <td>Hipertensão de grau 1</td>\n",
       "      <td>obesidade</td>\n",
       "      <td>[50, 60)</td>\n",
       "      <td>1</td>\n",
       "    </tr>\n",
       "    <tr>\n",
       "      <th>2</th>\n",
       "      <td>M</td>\n",
       "      <td>3</td>\n",
       "      <td>1</td>\n",
       "      <td>0</td>\n",
       "      <td>normal alto</td>\n",
       "      <td>normal</td>\n",
       "      <td>normal</td>\n",
       "      <td>[50, 60)</td>\n",
       "      <td>0</td>\n",
       "    </tr>\n",
       "    <tr>\n",
       "      <th>3</th>\n",
       "      <td>H</td>\n",
       "      <td>1</td>\n",
       "      <td>1</td>\n",
       "      <td>0</td>\n",
       "      <td>Hipertensão de grau 1</td>\n",
       "      <td>Hipertensão de grau 2</td>\n",
       "      <td>sobrepeso</td>\n",
       "      <td>[40, 50)</td>\n",
       "      <td>1</td>\n",
       "    </tr>\n",
       "    <tr>\n",
       "      <th>4</th>\n",
       "      <td>M</td>\n",
       "      <td>1</td>\n",
       "      <td>1</td>\n",
       "      <td>0</td>\n",
       "      <td>normal</td>\n",
       "      <td>normal</td>\n",
       "      <td>normal</td>\n",
       "      <td>[40, 50)</td>\n",
       "      <td>0</td>\n",
       "    </tr>\n",
       "  </tbody>\n",
       "</table>\n",
       "</div>"
      ],
      "text/plain": [
       "  gender  cholesterol  gluc  smoke               cat_aphi  \\\n",
       "0      H            1     1      0                 normal   \n",
       "1      M            3     1      0  Hipertensão de grau 1   \n",
       "2      M            3     1      0            normal alto   \n",
       "3      H            1     1      0  Hipertensão de grau 1   \n",
       "4      M            1     1      0                 normal   \n",
       "\n",
       "                cat_aplo    cat_imc   cat_age  active  \n",
       "0                 normal     normal  [50, 60)       1  \n",
       "1  Hipertensão de grau 1  obesidade  [50, 60)       1  \n",
       "2                 normal     normal  [50, 60)       0  \n",
       "3  Hipertensão de grau 2  sobrepeso  [40, 50)       1  \n",
       "4                 normal     normal  [40, 50)       0  "
      ]
     },
     "execution_count": 37,
     "metadata": {},
     "output_type": "execute_result"
    }
   ],
   "source": [
    "x.head()"
   ]
  },
  {
   "cell_type": "code",
   "execution_count": 38,
   "id": "f460985c",
   "metadata": {},
   "outputs": [],
   "source": [
    "x = pd.get_dummies(x, columns = [\"gender\", \"cholesterol\", \"gluc\", \"cat_aphi\", \"cat_aplo\", \"cat_imc\", \"cat_age\"])"
   ]
  },
  {
   "cell_type": "code",
   "execution_count": 39,
   "id": "19f4b464",
   "metadata": {},
   "outputs": [
    {
     "data": {
      "text/html": [
       "<div>\n",
       "<style scoped>\n",
       "    .dataframe tbody tr th:only-of-type {\n",
       "        vertical-align: middle;\n",
       "    }\n",
       "\n",
       "    .dataframe tbody tr th {\n",
       "        vertical-align: top;\n",
       "    }\n",
       "\n",
       "    .dataframe thead th {\n",
       "        text-align: right;\n",
       "    }\n",
       "</style>\n",
       "<table border=\"1\" class=\"dataframe\">\n",
       "  <thead>\n",
       "    <tr style=\"text-align: right;\">\n",
       "      <th></th>\n",
       "      <th>smoke</th>\n",
       "      <th>active</th>\n",
       "      <th>gender_H</th>\n",
       "      <th>gender_M</th>\n",
       "      <th>cholesterol_1</th>\n",
       "      <th>cholesterol_2</th>\n",
       "      <th>cholesterol_3</th>\n",
       "      <th>gluc_1</th>\n",
       "      <th>gluc_2</th>\n",
       "      <th>gluc_3</th>\n",
       "      <th>...</th>\n",
       "      <th>cat_imc_normal</th>\n",
       "      <th>cat_imc_obesidade</th>\n",
       "      <th>cat_imc_obesidade mórbida</th>\n",
       "      <th>cat_imc_sobrepeso</th>\n",
       "      <th>cat_imc_subpeso</th>\n",
       "      <th>cat_imc_subpeso severo</th>\n",
       "      <th>cat_age_[30, 40)</th>\n",
       "      <th>cat_age_[40, 50)</th>\n",
       "      <th>cat_age_[50, 60)</th>\n",
       "      <th>cat_age_[60, 65]</th>\n",
       "    </tr>\n",
       "  </thead>\n",
       "  <tbody>\n",
       "    <tr>\n",
       "      <th>0</th>\n",
       "      <td>0</td>\n",
       "      <td>1</td>\n",
       "      <td>1</td>\n",
       "      <td>0</td>\n",
       "      <td>1</td>\n",
       "      <td>0</td>\n",
       "      <td>0</td>\n",
       "      <td>1</td>\n",
       "      <td>0</td>\n",
       "      <td>0</td>\n",
       "      <td>...</td>\n",
       "      <td>1</td>\n",
       "      <td>0</td>\n",
       "      <td>0</td>\n",
       "      <td>0</td>\n",
       "      <td>0</td>\n",
       "      <td>0</td>\n",
       "      <td>0</td>\n",
       "      <td>0</td>\n",
       "      <td>1</td>\n",
       "      <td>0</td>\n",
       "    </tr>\n",
       "    <tr>\n",
       "      <th>1</th>\n",
       "      <td>0</td>\n",
       "      <td>1</td>\n",
       "      <td>0</td>\n",
       "      <td>1</td>\n",
       "      <td>0</td>\n",
       "      <td>0</td>\n",
       "      <td>1</td>\n",
       "      <td>1</td>\n",
       "      <td>0</td>\n",
       "      <td>0</td>\n",
       "      <td>...</td>\n",
       "      <td>0</td>\n",
       "      <td>1</td>\n",
       "      <td>0</td>\n",
       "      <td>0</td>\n",
       "      <td>0</td>\n",
       "      <td>0</td>\n",
       "      <td>0</td>\n",
       "      <td>0</td>\n",
       "      <td>1</td>\n",
       "      <td>0</td>\n",
       "    </tr>\n",
       "    <tr>\n",
       "      <th>2</th>\n",
       "      <td>0</td>\n",
       "      <td>0</td>\n",
       "      <td>0</td>\n",
       "      <td>1</td>\n",
       "      <td>0</td>\n",
       "      <td>0</td>\n",
       "      <td>1</td>\n",
       "      <td>1</td>\n",
       "      <td>0</td>\n",
       "      <td>0</td>\n",
       "      <td>...</td>\n",
       "      <td>1</td>\n",
       "      <td>0</td>\n",
       "      <td>0</td>\n",
       "      <td>0</td>\n",
       "      <td>0</td>\n",
       "      <td>0</td>\n",
       "      <td>0</td>\n",
       "      <td>0</td>\n",
       "      <td>1</td>\n",
       "      <td>0</td>\n",
       "    </tr>\n",
       "    <tr>\n",
       "      <th>3</th>\n",
       "      <td>0</td>\n",
       "      <td>1</td>\n",
       "      <td>1</td>\n",
       "      <td>0</td>\n",
       "      <td>1</td>\n",
       "      <td>0</td>\n",
       "      <td>0</td>\n",
       "      <td>1</td>\n",
       "      <td>0</td>\n",
       "      <td>0</td>\n",
       "      <td>...</td>\n",
       "      <td>0</td>\n",
       "      <td>0</td>\n",
       "      <td>0</td>\n",
       "      <td>1</td>\n",
       "      <td>0</td>\n",
       "      <td>0</td>\n",
       "      <td>0</td>\n",
       "      <td>1</td>\n",
       "      <td>0</td>\n",
       "      <td>0</td>\n",
       "    </tr>\n",
       "    <tr>\n",
       "      <th>4</th>\n",
       "      <td>0</td>\n",
       "      <td>0</td>\n",
       "      <td>0</td>\n",
       "      <td>1</td>\n",
       "      <td>1</td>\n",
       "      <td>0</td>\n",
       "      <td>0</td>\n",
       "      <td>1</td>\n",
       "      <td>0</td>\n",
       "      <td>0</td>\n",
       "      <td>...</td>\n",
       "      <td>1</td>\n",
       "      <td>0</td>\n",
       "      <td>0</td>\n",
       "      <td>0</td>\n",
       "      <td>0</td>\n",
       "      <td>0</td>\n",
       "      <td>0</td>\n",
       "      <td>1</td>\n",
       "      <td>0</td>\n",
       "      <td>0</td>\n",
       "    </tr>\n",
       "  </tbody>\n",
       "</table>\n",
       "<p>5 rows × 28 columns</p>\n",
       "</div>"
      ],
      "text/plain": [
       "   smoke  active  gender_H  gender_M  cholesterol_1  cholesterol_2  \\\n",
       "0      0       1         1         0              1              0   \n",
       "1      0       1         0         1              0              0   \n",
       "2      0       0         0         1              0              0   \n",
       "3      0       1         1         0              1              0   \n",
       "4      0       0         0         1              1              0   \n",
       "\n",
       "   cholesterol_3  gluc_1  gluc_2  gluc_3  ...  cat_imc_normal  \\\n",
       "0              0       1       0       0  ...               1   \n",
       "1              1       1       0       0  ...               0   \n",
       "2              1       1       0       0  ...               1   \n",
       "3              0       1       0       0  ...               0   \n",
       "4              0       1       0       0  ...               1   \n",
       "\n",
       "   cat_imc_obesidade  cat_imc_obesidade mórbida  cat_imc_sobrepeso  \\\n",
       "0                  0                          0                  0   \n",
       "1                  1                          0                  0   \n",
       "2                  0                          0                  0   \n",
       "3                  0                          0                  1   \n",
       "4                  0                          0                  0   \n",
       "\n",
       "   cat_imc_subpeso  cat_imc_subpeso severo  cat_age_[30, 40)  \\\n",
       "0                0                       0                 0   \n",
       "1                0                       0                 0   \n",
       "2                0                       0                 0   \n",
       "3                0                       0                 0   \n",
       "4                0                       0                 0   \n",
       "\n",
       "   cat_age_[40, 50)  cat_age_[50, 60)  cat_age_[60, 65]  \n",
       "0                 0                 1                 0  \n",
       "1                 0                 1                 0  \n",
       "2                 0                 1                 0  \n",
       "3                 1                 0                 0  \n",
       "4                 1                 0                 0  \n",
       "\n",
       "[5 rows x 28 columns]"
      ]
     },
     "execution_count": 39,
     "metadata": {},
     "output_type": "execute_result"
    }
   ],
   "source": [
    "x.head()"
   ]
  },
  {
   "cell_type": "markdown",
   "id": "46ec020a",
   "metadata": {},
   "source": [
    ">Para classificarmos os dados vamos utilizar o algoritmo árvore de decisão, porém não queremos usar apenas uma árvore para nosso dados. Portanto, testaremos dois algoritmos, RandomForestClassifier (adiciona variabilidade nos dados) e ExtraTreeClassifier (adiciona variabilidade nos classificadores)."
   ]
  },
  {
   "cell_type": "markdown",
   "id": "6fae113c",
   "metadata": {},
   "source": [
    "## - Otimização de Hiperparâmetros"
   ]
  },
  {
   "cell_type": "code",
   "execution_count": 40,
   "id": "24b08b1e",
   "metadata": {},
   "outputs": [],
   "source": [
    "espaco_parametros = {\n",
    "    \"n_estimators\" : randint(10, 50),\n",
    "    \"max_depth\" : randint(1, 5),\n",
    "    \"bootstrap\" : [True, False],\n",
    "    \"criterion\": [\"entropy\"]\n",
    "}\n"
   ]
  },
  {
   "cell_type": "markdown",
   "id": "808311a8",
   "metadata": {},
   "source": [
    "### - Random Forest Classifier"
   ]
  },
  {
   "cell_type": "code",
   "execution_count": 41,
   "id": "c73d9c1a",
   "metadata": {},
   "outputs": [
    {
     "data": {
      "text/plain": [
       "RandomizedSearchCV(cv=KFold(n_splits=10, random_state=None, shuffle=True),\n",
       "                   estimator=RandomForestClassifier(),\n",
       "                   param_distributions={'bootstrap': [True, False],\n",
       "                                        'criterion': ['entropy'],\n",
       "                                        'max_depth': <scipy.stats._distn_infrastructure.rv_frozen object at 0x0000022ED39B66D0>,\n",
       "                                        'n_estimators': <scipy.stats._distn_infrastructure.rv_frozen object at 0x0000022ED3EECC40>},\n",
       "                   random_state=827)"
      ]
     },
     "execution_count": 41,
     "metadata": {},
     "output_type": "execute_result"
    }
   ],
   "source": [
    "modelo_rtc = RandomizedSearchCV(estimator = RandomForestClassifier(),\n",
    "                                param_distributions = espaco_parametros,\n",
    "                                n_iter = 10,\n",
    "                                cv = KFold(n_splits = 10, shuffle = True),\n",
    "                                random_state = 827\n",
    "                                )\n",
    "modelo_rtc.fit(x, y)"
   ]
  },
  {
   "cell_type": "code",
   "execution_count": 42,
   "id": "c13c4e8f",
   "metadata": {},
   "outputs": [
    {
     "data": {
      "text/plain": [
       "RandomForestClassifier(criterion='entropy', max_depth=4, n_estimators=25)"
      ]
     },
     "execution_count": 42,
     "metadata": {},
     "output_type": "execute_result"
    }
   ],
   "source": [
    "modelo_rtc.best_estimator_"
   ]
  },
  {
   "cell_type": "code",
   "execution_count": 43,
   "id": "ff09514f",
   "metadata": {},
   "outputs": [],
   "source": [
    "resultado_rtc = pd.DataFrame(modelo_rtc.cv_results_)"
   ]
  },
  {
   "cell_type": "code",
   "execution_count": 44,
   "id": "cb0fef95",
   "metadata": {},
   "outputs": [
    {
     "data": {
      "text/html": [
       "<div>\n",
       "<style scoped>\n",
       "    .dataframe tbody tr th:only-of-type {\n",
       "        vertical-align: middle;\n",
       "    }\n",
       "\n",
       "    .dataframe tbody tr th {\n",
       "        vertical-align: top;\n",
       "    }\n",
       "\n",
       "    .dataframe thead th {\n",
       "        text-align: right;\n",
       "    }\n",
       "</style>\n",
       "<table border=\"1\" class=\"dataframe\">\n",
       "  <thead>\n",
       "    <tr style=\"text-align: right;\">\n",
       "      <th></th>\n",
       "      <th>mean_fit_time</th>\n",
       "      <th>std_fit_time</th>\n",
       "      <th>mean_score_time</th>\n",
       "      <th>std_score_time</th>\n",
       "      <th>param_bootstrap</th>\n",
       "      <th>param_criterion</th>\n",
       "      <th>param_max_depth</th>\n",
       "      <th>param_n_estimators</th>\n",
       "      <th>params</th>\n",
       "      <th>split0_test_score</th>\n",
       "      <th>...</th>\n",
       "      <th>split3_test_score</th>\n",
       "      <th>split4_test_score</th>\n",
       "      <th>split5_test_score</th>\n",
       "      <th>split6_test_score</th>\n",
       "      <th>split7_test_score</th>\n",
       "      <th>split8_test_score</th>\n",
       "      <th>split9_test_score</th>\n",
       "      <th>mean_test_score</th>\n",
       "      <th>std_test_score</th>\n",
       "      <th>rank_test_score</th>\n",
       "    </tr>\n",
       "  </thead>\n",
       "  <tbody>\n",
       "    <tr>\n",
       "      <th>6</th>\n",
       "      <td>0.50926</td>\n",
       "      <td>0.012493</td>\n",
       "      <td>0.017175</td>\n",
       "      <td>0.004691</td>\n",
       "      <td>True</td>\n",
       "      <td>entropy</td>\n",
       "      <td>4</td>\n",
       "      <td>25</td>\n",
       "      <td>{'bootstrap': True, 'criterion': 'entropy', 'm...</td>\n",
       "      <td>0.736286</td>\n",
       "      <td>...</td>\n",
       "      <td>0.728143</td>\n",
       "      <td>0.727</td>\n",
       "      <td>0.719714</td>\n",
       "      <td>0.718286</td>\n",
       "      <td>0.724</td>\n",
       "      <td>0.724429</td>\n",
       "      <td>0.726286</td>\n",
       "      <td>0.724943</td>\n",
       "      <td>0.004907</td>\n",
       "      <td>1</td>\n",
       "    </tr>\n",
       "  </tbody>\n",
       "</table>\n",
       "<p>1 rows × 22 columns</p>\n",
       "</div>"
      ],
      "text/plain": [
       "   mean_fit_time  std_fit_time  mean_score_time  std_score_time  \\\n",
       "6        0.50926      0.012493         0.017175        0.004691   \n",
       "\n",
       "  param_bootstrap param_criterion param_max_depth param_n_estimators  \\\n",
       "6            True         entropy               4                 25   \n",
       "\n",
       "                                              params  split0_test_score  ...  \\\n",
       "6  {'bootstrap': True, 'criterion': 'entropy', 'm...           0.736286  ...   \n",
       "\n",
       "   split3_test_score  split4_test_score  split5_test_score  split6_test_score  \\\n",
       "6           0.728143              0.727           0.719714           0.718286   \n",
       "\n",
       "   split7_test_score  split8_test_score  split9_test_score  mean_test_score  \\\n",
       "6              0.724           0.724429           0.726286         0.724943   \n",
       "\n",
       "   std_test_score  rank_test_score  \n",
       "6        0.004907                1  \n",
       "\n",
       "[1 rows x 22 columns]"
      ]
     },
     "execution_count": 44,
     "metadata": {},
     "output_type": "execute_result"
    }
   ],
   "source": [
    "resultado_rtc[max(modelo_rtc.cv_results_[\"mean_test_score\"]) == modelo_rtc.cv_results_[\"mean_test_score\"]]"
   ]
  },
  {
   "cell_type": "code",
   "execution_count": 45,
   "id": "a860c5ae",
   "metadata": {},
   "outputs": [],
   "source": [
    "scores_rtc = cross_val_score(modelo_rtc, x, y, cv = KFold(n_splits = 10, shuffle = True))"
   ]
  },
  {
   "cell_type": "code",
   "execution_count": 56,
   "id": "52a7beb9",
   "metadata": {},
   "outputs": [],
   "source": [
    "media_rtc = scores_rtc.mean()\n",
    "desvio_padrao_rtc = scores_rtc.std()"
   ]
  },
  {
   "cell_type": "markdown",
   "id": "1cb480ef",
   "metadata": {},
   "source": [
    "### - Extra Tree Classifier"
   ]
  },
  {
   "cell_type": "code",
   "execution_count": 47,
   "id": "3c8ac2e5",
   "metadata": {},
   "outputs": [
    {
     "data": {
      "text/plain": [
       "RandomizedSearchCV(cv=KFold(n_splits=10, random_state=None, shuffle=True),\n",
       "                   estimator=ExtraTreesClassifier(), n_iter=50,\n",
       "                   param_distributions={'bootstrap': [True, False],\n",
       "                                        'criterion': ['entropy'],\n",
       "                                        'max_depth': <scipy.stats._distn_infrastructure.rv_frozen object at 0x0000022ED39B66D0>,\n",
       "                                        'n_estimators': <scipy.stats._distn_infrastructure.rv_frozen object at 0x0000022ED3EECC40>},\n",
       "                   random_state=827)"
      ]
     },
     "execution_count": 47,
     "metadata": {},
     "output_type": "execute_result"
    }
   ],
   "source": [
    "modelo_etc = RandomizedSearchCV(estimator = ExtraTreesClassifier(),\n",
    "                                param_distributions = espaco_parametros,\n",
    "                                n_iter = 50,\n",
    "                                cv = KFold(n_splits = 10, shuffle = True),\n",
    "                                random_state = 827\n",
    "                                )\n",
    "modelo_etc.fit(x, y)"
   ]
  },
  {
   "cell_type": "code",
   "execution_count": 48,
   "id": "7851a2a2",
   "metadata": {},
   "outputs": [
    {
     "data": {
      "text/plain": [
       "ExtraTreesClassifier(criterion='entropy', max_depth=4, n_estimators=45)"
      ]
     },
     "execution_count": 48,
     "metadata": {},
     "output_type": "execute_result"
    }
   ],
   "source": [
    "modelo_etc.best_estimator_"
   ]
  },
  {
   "cell_type": "code",
   "execution_count": 49,
   "id": "ead4609b",
   "metadata": {},
   "outputs": [],
   "source": [
    "resultado_etc = pd.DataFrame(modelo_etc.cv_results_)"
   ]
  },
  {
   "cell_type": "code",
   "execution_count": 50,
   "id": "93b6cba7",
   "metadata": {},
   "outputs": [
    {
     "data": {
      "text/html": [
       "<div>\n",
       "<style scoped>\n",
       "    .dataframe tbody tr th:only-of-type {\n",
       "        vertical-align: middle;\n",
       "    }\n",
       "\n",
       "    .dataframe tbody tr th {\n",
       "        vertical-align: top;\n",
       "    }\n",
       "\n",
       "    .dataframe thead th {\n",
       "        text-align: right;\n",
       "    }\n",
       "</style>\n",
       "<table border=\"1\" class=\"dataframe\">\n",
       "  <thead>\n",
       "    <tr style=\"text-align: right;\">\n",
       "      <th></th>\n",
       "      <th>mean_fit_time</th>\n",
       "      <th>std_fit_time</th>\n",
       "      <th>mean_score_time</th>\n",
       "      <th>std_score_time</th>\n",
       "      <th>param_bootstrap</th>\n",
       "      <th>param_criterion</th>\n",
       "      <th>param_max_depth</th>\n",
       "      <th>param_n_estimators</th>\n",
       "      <th>params</th>\n",
       "      <th>split0_test_score</th>\n",
       "      <th>...</th>\n",
       "      <th>split3_test_score</th>\n",
       "      <th>split4_test_score</th>\n",
       "      <th>split5_test_score</th>\n",
       "      <th>split6_test_score</th>\n",
       "      <th>split7_test_score</th>\n",
       "      <th>split8_test_score</th>\n",
       "      <th>split9_test_score</th>\n",
       "      <th>mean_test_score</th>\n",
       "      <th>std_test_score</th>\n",
       "      <th>rank_test_score</th>\n",
       "    </tr>\n",
       "  </thead>\n",
       "  <tbody>\n",
       "    <tr>\n",
       "      <th>47</th>\n",
       "      <td>0.862307</td>\n",
       "      <td>0.031868</td>\n",
       "      <td>0.031235</td>\n",
       "      <td>0.006977</td>\n",
       "      <td>False</td>\n",
       "      <td>entropy</td>\n",
       "      <td>4</td>\n",
       "      <td>45</td>\n",
       "      <td>{'bootstrap': False, 'criterion': 'entropy', '...</td>\n",
       "      <td>0.723143</td>\n",
       "      <td>...</td>\n",
       "      <td>0.739429</td>\n",
       "      <td>0.730571</td>\n",
       "      <td>0.722714</td>\n",
       "      <td>0.724857</td>\n",
       "      <td>0.729429</td>\n",
       "      <td>0.723143</td>\n",
       "      <td>0.724429</td>\n",
       "      <td>0.726443</td>\n",
       "      <td>0.005063</td>\n",
       "      <td>1</td>\n",
       "    </tr>\n",
       "  </tbody>\n",
       "</table>\n",
       "<p>1 rows × 22 columns</p>\n",
       "</div>"
      ],
      "text/plain": [
       "    mean_fit_time  std_fit_time  mean_score_time  std_score_time  \\\n",
       "47       0.862307      0.031868         0.031235        0.006977   \n",
       "\n",
       "   param_bootstrap param_criterion param_max_depth param_n_estimators  \\\n",
       "47           False         entropy               4                 45   \n",
       "\n",
       "                                               params  split0_test_score  ...  \\\n",
       "47  {'bootstrap': False, 'criterion': 'entropy', '...           0.723143  ...   \n",
       "\n",
       "    split3_test_score  split4_test_score  split5_test_score  \\\n",
       "47           0.739429           0.730571           0.722714   \n",
       "\n",
       "    split6_test_score  split7_test_score  split8_test_score  \\\n",
       "47           0.724857           0.729429           0.723143   \n",
       "\n",
       "    split9_test_score  mean_test_score  std_test_score  rank_test_score  \n",
       "47           0.724429         0.726443        0.005063                1  \n",
       "\n",
       "[1 rows x 22 columns]"
      ]
     },
     "execution_count": 50,
     "metadata": {},
     "output_type": "execute_result"
    }
   ],
   "source": [
    "resultado_etc[max(modelo_etc.cv_results_[\"mean_test_score\"]) == modelo_etc.cv_results_[\"mean_test_score\"]]"
   ]
  },
  {
   "cell_type": "code",
   "execution_count": 51,
   "id": "cd018e9b",
   "metadata": {},
   "outputs": [],
   "source": [
    "scores_etc = cross_val_score(modelo_etc, x, y, cv = KFold(n_splits = 10, shuffle = True))"
   ]
  },
  {
   "cell_type": "code",
   "execution_count": 55,
   "id": "ca441921",
   "metadata": {},
   "outputs": [],
   "source": [
    "media_etc = scores_etc.mean()\n",
    "desvio_padrao_etc = scores_etc.std()"
   ]
  },
  {
   "cell_type": "code",
   "execution_count": 60,
   "id": "7766830f",
   "metadata": {},
   "outputs": [
    {
     "name": "stdout",
     "output_type": "stream",
     "text": [
      "Random Forest Classifier:\n",
      "Accurácia média = 72.58\n",
      "Com intervalo = [71.38, 73.79]\n"
     ]
    }
   ],
   "source": [
    "print(\"Random Forest Classifier:\")\n",
    "print(\"Acurácia média = %.2f\" % (media_rtc * 100))\n",
    "print(\"Com intervalo = [%.2f, %.2f]\" % ((media_rtc - 2 * desvio_padrao_rtc)*100, (media_rtc + 2 * desvio_padrao_rtc) * 100))"
   ]
  },
  {
   "cell_type": "code",
   "execution_count": 58,
   "id": "2d3e4596",
   "metadata": {},
   "outputs": [
    {
     "name": "stdout",
     "output_type": "stream",
     "text": [
      "Extra Tree Classifier\n",
      "Acurácia média = 72.66\n",
      "Com intervalo = [71.40, 73.92]\n"
     ]
    }
   ],
   "source": [
    "print(\"Extra Tree Classifier\")\n",
    "print(\"Acurácia média = %.2f\" % (media_etc * 100))\n",
    "print(\"Com intervalo = [%.2f, %.2f]\" % ((media_etc - 2 * desvio_padrao_etc)*100, (media_etc + 2 * desvio_padrao_etc) * 100))"
   ]
  },
  {
   "cell_type": "markdown",
   "id": "1ca330b6",
   "metadata": {},
   "source": [
    "> Os dois modelos tiveram o mesmo resultado. Vamos escolher a RandomForestClassifier por este algoritmo ter utilizado menos estimadores."
   ]
  },
  {
   "cell_type": "markdown",
   "id": "3fd0056e",
   "metadata": {},
   "source": [
    "## - Modelo Random Forest Classifier"
   ]
  },
  {
   "cell_type": "code",
   "execution_count": 164,
   "id": "0b87eb01",
   "metadata": {},
   "outputs": [
    {
     "data": {
      "text/plain": [
       "RandomForestClassifier(criterion='entropy', max_depth=4, n_estimators=25,\n",
       "                       random_state=827)"
      ]
     },
     "execution_count": 164,
     "metadata": {},
     "output_type": "execute_result"
    }
   ],
   "source": [
    "modelo = RandomForestClassifier(criterion='entropy', max_depth=4, n_estimators=25, random_state = 827)\n",
    "modelo.fit(x, y)"
   ]
  },
  {
   "cell_type": "code",
   "execution_count": 123,
   "id": "a3d98098",
   "metadata": {},
   "outputs": [
    {
     "data": {
      "text/plain": [
       "Index(['smoke', 'active', 'gender_H', 'gender_M', 'cholesterol_1',\n",
       "       'cholesterol_2', 'cholesterol_3', 'gluc_1', 'gluc_2', 'gluc_3',\n",
       "       'cat_aphi_Hipertensão de grau 1', 'cat_aphi_Hipertensão de grau 2',\n",
       "       'cat_aphi_normal', 'cat_aphi_normal alto',\n",
       "       'cat_aplo_Hipertensão de grau 1', 'cat_aplo_Hipertensão de grau 2',\n",
       "       'cat_aplo_normal', 'cat_aplo_normal alto', 'cat_imc_normal',\n",
       "       'cat_imc_obesidade', 'cat_imc_obesidade mórbida', 'cat_imc_sobrepeso',\n",
       "       'cat_imc_subpeso', 'cat_imc_subpeso severo', 'cat_age_[30, 40)',\n",
       "       'cat_age_[40, 50)', 'cat_age_[50, 60)', 'cat_age_[60, 65]'],\n",
       "      dtype='object')"
      ]
     },
     "execution_count": 123,
     "metadata": {},
     "output_type": "execute_result"
    }
   ],
   "source": [
    "x.columns"
   ]
  },
  {
   "cell_type": "code",
   "execution_count": 168,
   "id": "ab272e54",
   "metadata": {},
   "outputs": [],
   "source": [
    "def cardio_diag(genero, colesterol, glicose, fumante, pre_art_sistolica, pre_art_diastolica, imc, idade, ativo):\n",
    "    dados = pd.DataFrame(data= {\n",
    "        'smoke':[0], \n",
    "        'active':[0], \n",
    "        'gender_H':[0], 'gender_M':[0], \n",
    "        'cholesterol_1':[0], 'cholesterol_2':[0], 'cholesterol_3':[0], \n",
    "        'gluc_1':[0], 'gluc_2':[0], 'gluc_3':[0], \n",
    "        'cat_aphi_Hipertensão de grau 1':[0], 'cat_aphi_Hipertensão de grau 2':[0], 'cat_aphi_normal':[0], 'cat_aphi_normal alto':[0],\n",
    "        'cat_aplo_Hipertensão de grau 1':[0], 'cat_aplo_Hipertensão de grau 2':[0], 'cat_aplo_normal':[0], 'cat_aplo_normal alto':0, 'cat_imc_normal':[0],\n",
    "        'cat_imc_obesidade':[0], 'cat_imc_obesidade mórbida':[0], 'cat_imc_sobrepeso':[0],\n",
    "        'cat_imc_subpeso':[0], 'cat_imc_subpeso severo':[0], \n",
    "        'cat_age_[30, 40)':[0], 'cat_age_[40, 50)':[0], 'cat_age_[50, 60)':[0], 'cat_age_[60, 65]':[0]\n",
    "    })\n",
    "\n",
    "    #fumante\n",
    "    dados.smoke = fumante\n",
    "    #Atividade física\n",
    "    dados.active = ativo\n",
    "    \n",
    "    #genero\n",
    "    if genero.lower() == \"h\":\n",
    "        dados.gender_H = 1\n",
    "    elif genero.lower() == \"m\":\n",
    "        dados.gender_M = 1\n",
    "\n",
    "    #colesterol\n",
    "    if colesterol == 1:\n",
    "        dados.cholesterol_1 = 1\n",
    "    elif colesterol == 2:\n",
    "        dados.cholesterol_2 = 1 \n",
    "    elif colesterol == 3:\n",
    "        dados.cholesterol_3 = 1\n",
    "    \n",
    "    #glicose\n",
    "    if glicose == 1:\n",
    "        dados.glucl_1 = 1\n",
    "    elif glicose == 2:\n",
    "        dados.gluc_2 = 1 \n",
    "    elif glicose == 3:\n",
    "        dados.gluc_3 = 1\n",
    "    \n",
    "    #pressão sistólica\n",
    "    if (pre_art_sistolica < 130):\n",
    "        dados['cat_aphi_normal'] = 1\n",
    "    elif (pre_art_sistolica >= 130) & (pre_art_sistolica < 140):\n",
    "        dados['cat_aphi_normal alto'] = 1\n",
    "    elif (pre_art_sistolica >= 140) & (pre_art_sistolica < 159):\n",
    "        dados['cat_aphi_Hipertensão de grau 1'] = 1\n",
    "    elif (dados.cat_aphi[0] >= 160):\n",
    "        dados['cat_aphi_Hipertensão de grau 2'] = 1\n",
    "\n",
    "    #pressão diastólica\n",
    "    if (pre_art_diastolica < 85):\n",
    "        dados['cat_aplo_normal'] = 1\n",
    "    elif (pre_art_diastolica >= 85) & (pre_art_diastolica < 90):\n",
    "        dados['cat_aplo_normal alto'] = 1\n",
    "    elif (pre_art_diastolica >= 90) & (pre_art_diastolica < 99): \n",
    "        dados['cat_aplo_Hipertensão de grau 1'] = 1\n",
    "    elif (pre_art_diastolica >= 100):\n",
    "        dados['cat_aplo_Hipertensão de grau 2'] = 1\n",
    "    \n",
    "    \n",
    "    #IMC\n",
    "    if (imc < 16):\n",
    "        dados['cat_imc_subpeso severo'] = 1\n",
    "    elif (imc >= 16) & (imc < 20):\n",
    "        dados['cat_imc_subpeso'] = 1\n",
    "    elif (imc >= 20) & (imc < 25):\n",
    "        dados['cat_imc_normal'] = 1\n",
    "    elif (imc >= 25) & (imc < 30):\n",
    "        dados['cat_imc_sobrepeso'] = 1\n",
    "    elif (imc >= 30) & (imc < 40):\n",
    "        dados['cat_imc_obesidade'] = 1\n",
    "    elif (imc >= 40):\n",
    "        dados['cat_imc_obesidade mórbida'] = 1\n",
    "              \n",
    "    #Idade\n",
    "    if (idade >= 30) & (idade < 40):\n",
    "        dados['cat_age_[30, 40)'] = 1\n",
    "    elif (idade >= 40) & (idade < 50):\n",
    "        dados['cat_age_[40, 50)'] = 1\n",
    "    elif (idade >= 50) & (idade < 60):\n",
    "        dados['cat_age_[50, 60)'] = 1\n",
    "    elif (idade >= 60) & (idade <= 65):\n",
    "        dados['cat_age_[60, 65]'] = 1\n",
    "    \n",
    "    predicao = modelo.predict(dados)\n",
    "    if predicao[0] == 0:\n",
    "        print(\"--------------------------------------------------------------\")\n",
    "        print(\"Não tem doença cardiovascular\")\n",
    "        print(\"Acurácia média do teste = 72.5, com intervalo = [71.38, 73.79]\")\n",
    "    elif predicao[0] == 1:\n",
    "        print(\"--------------------------------------------------------------\")\n",
    "        print(\"Tem doença cardiovascular\")\n",
    "        print(\"Acurácia média do teste = 72.5, com intervalo = [71.38, 73.79]\")"
   ]
  },
  {
   "cell_type": "code",
   "execution_count": 169,
   "id": "2471a84f",
   "metadata": {},
   "outputs": [],
   "source": [
    "def diagnostico_cardiaco():    \n",
    "    \n",
    "    genero = str(input('Informe o gênero (\"m\" para mulher ou \"h\" para homem): '))    \n",
    "    while (genero.lower() != \"m\" and genero.lower() != \"h\"):\n",
    "        print('Você digitou errado!\\nDigite \"m\" para mulher ou \"h\" para homem')\n",
    "        genero = str(input('Informe o gênero (\"m\" para mulher ou \"h\" para homem): '))          \n",
    "    \n",
    "    colesterol = int(input('Informe nível colesterol (normal = 1, acima do normal = 2, bem acima do normal = 3): ')) \n",
    "    while (colesterol != 1 and colesterol != 2 and colesterol != 3):\n",
    "        print('Você digitou errado!\\nDigite 1 para \"normal\", 2 para \"acima do normal\", 3 para \"bem acima do normal\"')\n",
    "        colesterol = int(input('Informe nível colesterol (normal = 1, acima do normal = 2, bem acima do normal = 3): '))\n",
    "                     \n",
    "    glicose = int(input('Informe nível de glicose (normal = 1, acima do normal = 2, bem acima do normal = 3): '))\n",
    "    while (glicose != 1 and glicose != 2 and glicose != 3):\n",
    "        print('Você digitou errado!\\nDigite 1 para \"normal\", 2 para \"acima do normal\", 3 para \"bem acima do normal\"')\n",
    "        glicose = int(input('Informe nível de glicose (normal = 1, acima do normal = 2, bem acima do normal = 3): '))\n",
    "                     \n",
    "    fumante = int(input('Informe se é fumante (não = 0, sim = 1): ')) \n",
    "    while (fumante != 0 and fumante != 1):\n",
    "        print('Você digitou errado!\\nDigite 0 para não fumante ou 1 para fumante')\n",
    "        fumante = int(input('Informe se é fumante (não = 0, sim = 1): '))\n",
    "                     \n",
    "    pre_art_sistolica = int(input('Informe a pressão sistólica: '))\n",
    "    while (pre_art_sistolica == \"\"):\n",
    "        print('Você não digitou nada!')\n",
    "        pre_art_sistolica = int(input('Informe a pressão sistólica: '))           \n",
    "                     \n",
    "    pre_art_diastolica = int(input('informe  a pressão diastólica: '))\n",
    "    while (pre_art_diastolica == \"\"):\n",
    "        print('Você não digitou nada!')\n",
    "        pre_art_diastolica = int(input('informe  a pressão diastólica: '))\n",
    "                     \n",
    "    imc = float(input('Informe o IMC: '))\n",
    "    while (imc == \"\"):\n",
    "        print('Você não digitou nada!')\n",
    "        imc = float(input('Informe o IMC: '))                    \n",
    "                     \n",
    "    idade = int(input('Informe a idade: '))\n",
    "    while (idade == \"\"):\n",
    "        print('Você não digitou nada!')\n",
    "        idade = int(input('Informe a idade: '))\n",
    "                     \n",
    "    ativo = int(input('Informe se pratíca atividade física (não = 0, sim = 1): '))\n",
    "    while (ativo != 0 and ativo != 1):\n",
    "        print('Você digitou errado!\\nDigite 0 para não ativo ou 1 para ativo')\n",
    "        ativo = int(input('Informe se pratíca atividade física (não = 0, sim = 1): '))\n",
    "    cardio_diag(genero, colesterol, glicose, fumante, pre_art_sistolica, pre_art_diastolica, imc, idade, ativo)"
   ]
  },
  {
   "cell_type": "markdown",
   "id": "8324f9f1",
   "metadata": {},
   "source": [
    "# -------------------------------------------------------------------------------------------------------------"
   ]
  },
  {
   "cell_type": "markdown",
   "id": "dbf0df5b",
   "metadata": {},
   "source": [
    "## - Testando a Função"
   ]
  },
  {
   "cell_type": "code",
   "execution_count": 172,
   "id": "828214f3",
   "metadata": {},
   "outputs": [
    {
     "name": "stdout",
     "output_type": "stream",
     "text": [
      "Informe o gênero (\"m\" para mulher ou \"h\" para homem): h\n",
      "Informe nível colesterol (normal = 1, acima do normal = 2, bem acima do normal = 3): 1\n",
      "Informe nível de glicose (normal = 1, acima do normal = 2, bem acima do normal = 3): 2\n",
      "Informe se é fumante (não = 0, sim = 1): 1\n",
      "Informe a pressão sistólica: 140\n",
      "informe  a pressão diastólica: 90\n",
      "Informe o IMC: 30\n",
      "Informe a idade: 26\n",
      "Informe se pratíca atividade física (não = 0, sim = 1): 0\n",
      "--------------------------------------------------------------\n",
      "Tem doença cardiovascular\n",
      "Acurácia média do teste = 72.5, com intervalo = [71.38, 73.79]\n"
     ]
    }
   ],
   "source": [
    "diagnostico_cardiaco()"
   ]
  }
 ],
 "metadata": {
  "kernelspec": {
   "display_name": "Python 3 (ipykernel)",
   "language": "python",
   "name": "python3"
  },
  "language_info": {
   "codemirror_mode": {
    "name": "ipython",
    "version": 3
   },
   "file_extension": ".py",
   "mimetype": "text/x-python",
   "name": "python",
   "nbconvert_exporter": "python",
   "pygments_lexer": "ipython3",
   "version": "3.9.6"
  }
 },
 "nbformat": 4,
 "nbformat_minor": 5
}
